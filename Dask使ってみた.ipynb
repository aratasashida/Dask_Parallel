{
 "cells": [
  {
   "cell_type": "markdown",
   "metadata": {},
   "source": [
    "#### 今回使用するマシンスペック"
   ]
  },
  {
   "cell_type": "code",
   "execution_count": 3,
   "metadata": {
    "collapsed": true
   },
   "outputs": [],
   "source": [
    "import platform\n",
    "import multiprocessing as mp\n",
    "import timeit\n",
    "\n",
    "def print_sysinfo():\n",
    "    print( '\\nPython version  :', platform.python_version() )\n",
    "    print( 'compiler        :', platform.python_compiler() )\n",
    "    \n",
    "    print( '\\nsystem     :', platform.system() )\n",
    "    print( 'release    :', platform.release() )\n",
    "    print( 'machine    :', platform.machine() )\n",
    "    print( 'processor  :', platform.processor() )\n",
    "    print( 'CPU count  :', mp.cpu_count() )\n",
    "    print( 'interpreter:', platform.architecture()[0] )\n",
    "    print"
   ]
  },
  {
   "cell_type": "code",
   "execution_count": 4,
   "metadata": {},
   "outputs": [
    {
     "name": "stdout",
     "output_type": "stream",
     "text": [
      "\n",
      "Python version  : 3.6.1\n",
      "compiler        : GCC 4.2.1 Compatible Apple LLVM 6.0 (clang-600.0.57)\n",
      "\n",
      "system     : Darwin\n",
      "release    : 16.7.0\n",
      "machine    : x86_64\n",
      "processor  : i386\n",
      "CPU count  : 4\n",
      "interpreter: 64bit\n"
     ]
    }
   ],
   "source": [
    "print_sysinfo()"
   ]
  },
  {
   "cell_type": "markdown",
   "metadata": {},
   "source": [
    "### Daskを使った簡単な並列処理"
   ]
  },
  {
   "cell_type": "markdown",
   "metadata": {},
   "source": [
    "以下に簡単な計算例を示す。"
   ]
  },
  {
   "cell_type": "code",
   "execution_count": 5,
   "metadata": {
    "collapsed": true
   },
   "outputs": [],
   "source": [
    "from time import sleep\n",
    "\n",
    "def slowadd(x,y):\n",
    "    \"\"\" addをスローで行う \"\"\"\n",
    "    sleep(1)\n",
    "    return x+y\n",
    "\n",
    "def slowinc(x):\n",
    "    \"\"\" incrementをスローで行う \"\"\"\n",
    "    sleep(1)\n",
    "    return x+1\n",
    "\n",
    "def slowsum(L):\n",
    "    \"\"\" sumをスローで行う \"\"\"\n",
    "    sleep(1)\n",
    "    return sum(L)"
   ]
  },
  {
   "cell_type": "markdown",
   "metadata": {},
   "source": [
    "実行後は以下のようになる。スリープで遅延させているため処理時間は１sとなる。"
   ]
  },
  {
   "cell_type": "code",
   "execution_count": 6,
   "metadata": {},
   "outputs": [
    {
     "name": "stdout",
     "output_type": "stream",
     "text": [
      "CPU times: user 842 µs, sys: 840 µs, total: 1.68 ms\n",
      "Wall time: 1 s\n"
     ]
    },
    {
     "data": {
      "text/plain": [
       "6"
      ]
     },
     "execution_count": 6,
     "metadata": {},
     "output_type": "execute_result"
    }
   ],
   "source": [
    "%time slowsum([1,2,3])"
   ]
  },
  {
   "cell_type": "markdown",
   "metadata": {},
   "source": [
    "上記で宣言した関数を用いて簡単な処理を書く。  \n",
    "リストを３つ作成し中身を足して行くだけの簡単な処理である。  \n",
    "実行には12sほどかかっている。"
   ]
  },
  {
   "cell_type": "code",
   "execution_count": 7,
   "metadata": {},
   "outputs": [
    {
     "name": "stdout",
     "output_type": "stream",
     "text": [
      "387\n",
      "CPU times: user 1.11 ms, sys: 1.2 ms, total: 2.31 ms\n",
      "Wall time: 12 s\n"
     ]
    }
   ],
   "source": [
    "%%time\n",
    "\n",
    "data = [1,2,3]\n",
    "A = [slowinc(i) for i in data]\n",
    "B = [slowadd(a,10) for a in A]\n",
    "C = [slowadd(b,100) for b in B]\n",
    "score = slowsum(A) + slowsum(B) + slowsum(C)\n",
    "\n",
    "print(score)"
   ]
  },
  {
   "cell_type": "markdown",
   "metadata": {},
   "source": [
    "### Daskを使って並列化"
   ]
  },
  {
   "cell_type": "code",
   "execution_count": 8,
   "metadata": {
    "collapsed": true
   },
   "outputs": [],
   "source": [
    "from dask import delayed"
   ]
  },
  {
   "cell_type": "code",
   "execution_count": 9,
   "metadata": {},
   "outputs": [
    {
     "name": "stdout",
     "output_type": "stream",
     "text": [
      "Delayed('add-32e6d588992ef95a872195a6959d5925')\n",
      "CPU times: user 2.3 ms, sys: 1.69 ms, total: 3.99 ms\n",
      "Wall time: 3.89 ms\n"
     ]
    }
   ],
   "source": [
    "%%time\n",
    "\n",
    "data = [1,2,3]\n",
    "A = [delayed(slowinc)(i) for i in data]\n",
    "B = [delayed(slowadd)(b,10) for b in A]\n",
    "C = [delayed(slowadd)(c,100) for c in B]\n",
    "score = delayed(slowsum)(A) + delayed(slowsum)(B) + delayed(slowsum)(C)\n",
    "\n",
    "print(score)"
   ]
  },
  {
   "cell_type": "markdown",
   "metadata": {},
   "source": [
    "処理時間は短くなっているがここでは計算は行なっておらず、グラフのマッピングを行なっている。  \n",
    "以下にグラフのマッピング結果を示す。"
   ]
  },
  {
   "cell_type": "code",
   "execution_count": 10,
   "metadata": {},
   "outputs": [
    {
     "name": "stderr",
     "output_type": "stream",
     "text": [
      "ERROR:root:Internal Python error in the inspect module.\n",
      "Below is the traceback from this internal error.\n",
      "\n"
     ]
    },
    {
     "name": "stdout",
     "output_type": "stream",
     "text": [
      "Traceback (most recent call last):\n",
      "  File \"/Users/art/.pyenv/versions/anaconda3-4.4.0/lib/python3.6/site-packages/IPython/core/interactiveshell.py\", line 2881, in run_code\n",
      "    exec(code_obj, self.user_global_ns, self.user_ns)\n",
      "  File \"<ipython-input-10-97007b5102e0>\", line 1, in <module>\n",
      "    score.visualize()\n",
      "  File \"/Users/art/.pyenv/versions/anaconda3-4.4.0/lib/python3.6/site-packages/dask/base.py\", line 69, in visualize\n",
      "    optimize_graph=optimize_graph, **kwargs)\n",
      "  File \"/Users/art/.pyenv/versions/anaconda3-4.4.0/lib/python3.6/site-packages/dask/base.py\", line 265, in visualize\n",
      "    return dot_graph(dsk, filename=filename, **kwargs)\n",
      "  File \"/Users/art/.pyenv/versions/anaconda3-4.4.0/lib/python3.6/site-packages/dask/dot.py\", line 246, in dot_graph\n",
      "    with open(full_filename, 'wb') as f:\n",
      "FileNotFoundError: [Errno 2] No such file or directory: 'mydask.png'\n",
      "\n",
      "During handling of the above exception, another exception occurred:\n",
      "\n",
      "Traceback (most recent call last):\n",
      "  File \"/Users/art/.pyenv/versions/anaconda3-4.4.0/lib/python3.6/site-packages/IPython/core/interactiveshell.py\", line 1821, in showtraceback\n",
      "    stb = value._render_traceback_()\n",
      "AttributeError: 'FileNotFoundError' object has no attribute '_render_traceback_'\n",
      "\n",
      "During handling of the above exception, another exception occurred:\n",
      "\n",
      "Traceback (most recent call last):\n",
      "  File \"/Users/art/.pyenv/versions/anaconda3-4.4.0/lib/python3.6/site-packages/IPython/core/ultratb.py\", line 1132, in get_records\n",
      "    return _fixed_getinnerframes(etb, number_of_lines_of_context, tb_offset)\n",
      "  File \"/Users/art/.pyenv/versions/anaconda3-4.4.0/lib/python3.6/site-packages/IPython/core/ultratb.py\", line 313, in wrapped\n",
      "    return f(*args, **kwargs)\n",
      "  File \"/Users/art/.pyenv/versions/anaconda3-4.4.0/lib/python3.6/site-packages/IPython/core/ultratb.py\", line 358, in _fixed_getinnerframes\n",
      "    records = fix_frame_records_filenames(inspect.getinnerframes(etb, context))\n",
      "  File \"/Users/art/.pyenv/versions/anaconda3-4.4.0/lib/python3.6/inspect.py\", line 1453, in getinnerframes\n",
      "    frameinfo = (tb.tb_frame,) + getframeinfo(tb, context)\n",
      "  File \"/Users/art/.pyenv/versions/anaconda3-4.4.0/lib/python3.6/inspect.py\", line 1411, in getframeinfo\n",
      "    filename = getsourcefile(frame) or getfile(frame)\n",
      "  File \"/Users/art/.pyenv/versions/anaconda3-4.4.0/lib/python3.6/inspect.py\", line 666, in getsourcefile\n",
      "    if getattr(getmodule(object, filename), '__loader__', None) is not None:\n",
      "  File \"/Users/art/.pyenv/versions/anaconda3-4.4.0/lib/python3.6/inspect.py\", line 695, in getmodule\n",
      "    file = getabsfile(object, _filename)\n",
      "  File \"/Users/art/.pyenv/versions/anaconda3-4.4.0/lib/python3.6/inspect.py\", line 679, in getabsfile\n",
      "    return os.path.normcase(os.path.abspath(_filename))\n",
      "  File \"/Users/art/.pyenv/versions/anaconda3-4.4.0/lib/python3.6/posixpath.py\", line 374, in abspath\n",
      "    cwd = os.getcwd()\n",
      "FileNotFoundError: [Errno 2] No such file or directory\n"
     ]
    },
    {
     "ename": "FileNotFoundError",
     "evalue": "[Errno 2] No such file or directory: 'mydask.png'",
     "output_type": "error",
     "traceback": [
      "\u001b[0;31m---------------------------------------------------------------------------\u001b[0m"
     ]
    }
   ],
   "source": [
    "score.visualize()"
   ]
  },
  {
   "cell_type": "code",
   "execution_count": null,
   "metadata": {},
   "outputs": [],
   "source": [
    "%%time\n",
    "score.compute()"
   ]
  },
  {
   "cell_type": "markdown",
   "metadata": {},
   "source": [
    "daskでは並列処理のマッピングを自動で行ってくれる"
   ]
  },
  {
   "cell_type": "markdown",
   "metadata": {},
   "source": [
    "### bokehを使って処理段階を描写"
   ]
  },
  {
   "cell_type": "code",
   "execution_count": null,
   "metadata": {},
   "outputs": [],
   "source": [
    "from bokeh.plotting import output_notebook\n",
    "output_notebook()"
   ]
  },
  {
   "cell_type": "code",
   "execution_count": null,
   "metadata": {},
   "outputs": [],
   "source": [
    "from dask.diagnostics import Profiler\n",
    "prof = Profiler()\n",
    "\n",
    "with prof:\n",
    "    score.compute()\n",
    "\n",
    "prof.visualize()"
   ]
  },
  {
   "cell_type": "markdown",
   "metadata": {},
   "source": [
    "### 辞書型で並列処理を行う"
   ]
  },
  {
   "cell_type": "code",
   "execution_count": null,
   "metadata": {
    "collapsed": true
   },
   "outputs": [],
   "source": [
    "# 並列処理に使用する関数を定義しておく\n",
    "def inc(x):\n",
    "    return x+1\n",
    "\n",
    "def add(x,y):\n",
    "    return x+y"
   ]
  },
  {
   "cell_type": "code",
   "execution_count": null,
   "metadata": {
    "collapsed": true
   },
   "outputs": [],
   "source": [
    "# daskでは辞書型を用いてグラフを表現する\n",
    "dask_dict = {\n",
    "    \"a\":1,\n",
    "    \"b\":(inc,\"a\"),\n",
    "    \"x\":10,\n",
    "    \"y\":(inc,\"x\"),\n",
    "    \"z\":(add,\"b\",\"y\")\n",
    "}"
   ]
  },
  {
   "cell_type": "code",
   "execution_count": null,
   "metadata": {},
   "outputs": [],
   "source": [
    "dask_dict"
   ]
  },
  {
   "cell_type": "code",
   "execution_count": null,
   "metadata": {},
   "outputs": [],
   "source": [
    "from dask.multiprocessing import get\n",
    "get(dask_dict,\"z\")"
   ]
  },
  {
   "cell_type": "code",
   "execution_count": null,
   "metadata": {},
   "outputs": [],
   "source": [
    "from dask.dot import dot_graph\n",
    "dot_graph(dask_dict)"
   ]
  },
  {
   "cell_type": "markdown",
   "metadata": {},
   "source": [
    "daskでは辞書による宣言を予め行なっておけば並列化処理を自動で行なってくれる。"
   ]
  },
  {
   "cell_type": "markdown",
   "metadata": {},
   "source": [
    "### モンテカルロ法で速度比較を行う"
   ]
  },
  {
   "cell_type": "code",
   "execution_count": null,
   "metadata": {
    "collapsed": true
   },
   "outputs": [],
   "source": [
    "import random"
   ]
  },
  {
   "cell_type": "code",
   "execution_count": null,
   "metadata": {
    "collapsed": true
   },
   "outputs": [],
   "source": [
    "def is_incide_circle():\n",
    "    \"\"\"ランダムな1点を作成し、指定した円の範囲内にあるかどうかを判定する\"\"\"\n",
    "    x = random.random()\n",
    "    y = random.random()\n",
    "    if x**2 + y**2 <= 1:\n",
    "        return 1\n",
    "    else:\n",
    "        return 0"
   ]
  },
  {
   "cell_type": "code",
   "execution_count": null,
   "metadata": {
    "collapsed": true
   },
   "outputs": [],
   "source": [
    "def compute_pi(num):\n",
    "    \"\"\"引数回シュミレーションを行い、円周率の計算を行う\"\"\"\n",
    "    count = [is_incide_circle() for i in range(num)]\n",
    "    return 4*sum(count)/num"
   ]
  },
  {
   "cell_type": "code",
   "execution_count": null,
   "metadata": {},
   "outputs": [],
   "source": [
    "%%time\n",
    "print(compute_pi(100))"
   ]
  },
  {
   "cell_type": "markdown",
   "metadata": {},
   "source": [
    "並列実装なしで点を1000万個プロットした場合、処理時間は約6sとなっている。"
   ]
  },
  {
   "cell_type": "markdown",
   "metadata": {},
   "source": [
    "#### モンテカルロを並列実装"
   ]
  },
  {
   "cell_type": "code",
   "execution_count": null,
   "metadata": {
    "collapsed": true
   },
   "outputs": [],
   "source": [
    "def parallel_compute1_pi(num):\n",
    "    \"\"\"引数回シュミレーションを並列実行で行い、円周率の計算を行う\"\"\"\n",
    "    count = [delayed(is_incide_circle)() for i in range(num)]\n",
    "    return 4*delayed(sum)(count)/num"
   ]
  },
  {
   "cell_type": "code",
   "execution_count": null,
   "metadata": {},
   "outputs": [],
   "source": [
    "%%time\n",
    "print(parallel_compute1_pi(100).compute())"
   ]
  },
  {
   "cell_type": "markdown",
   "metadata": {},
   "source": [
    "処理が遅くなっている。処理の流れを見てみる"
   ]
  },
  {
   "cell_type": "code",
   "execution_count": null,
   "metadata": {},
   "outputs": [],
   "source": [
    "score = parallel_compute1_pi(10)\n",
    "score.visualize()"
   ]
  },
  {
   "cell_type": "markdown",
   "metadata": {},
   "source": [
    "is_incide_circleメソッドが処理の回数分呼ばれている。  \n",
    "メソッドの内部処理は非常に小さなタスクのため複数回呼び出すごとに処理時間のオーバーヘッドが生じてしまい処理が遅くなっていると思われる。  \n",
    "ここでis_incide_cicleを呼び出す関数を新たに作成することで処理時間のオーバーヘッドを解消する。  "
   ]
  },
  {
   "cell_type": "code",
   "execution_count": null,
   "metadata": {
    "collapsed": true
   },
   "outputs": [],
   "source": [
    "def how_many_inside_circle(k):\n",
    "    return sum(is_incide_circle() for i in range(int(k)))"
   ]
  },
  {
   "cell_type": "code",
   "execution_count": null,
   "metadata": {
    "collapsed": true
   },
   "outputs": [],
   "source": [
    "def parallel_compute2_pi(nsamples, k):\n",
    "    points = [delayed(how_many_inside_circle)(k) for i in range(int(nsamples / k))]\n",
    "    if nsamples % k != 0: \n",
    "        points.append(delayed(how_many_inside_circle)(nsamples % k))\n",
    "    return 4. * delayed(sum)(points) / nsamples"
   ]
  },
  {
   "cell_type": "code",
   "execution_count": null,
   "metadata": {
    "scrolled": true
   },
   "outputs": [],
   "source": [
    "%%time\n",
    "print(parallel_compute_pi(100,10).compute())"
   ]
  },
  {
   "cell_type": "code",
   "execution_count": null,
   "metadata": {},
   "outputs": [],
   "source": [
    "score = parallel_compute_pi(15,3)"
   ]
  },
  {
   "cell_type": "code",
   "execution_count": null,
   "metadata": {},
   "outputs": [],
   "source": [
    "score.visualize()"
   ]
  },
  {
   "cell_type": "code",
   "execution_count": null,
   "metadata": {
    "collapsed": true
   },
   "outputs": [],
   "source": []
  },
  {
   "cell_type": "code",
   "execution_count": null,
   "metadata": {
    "collapsed": true
   },
   "outputs": [],
   "source": [
    "def input():\n",
    "    return \"12/31 25:01\""
   ]
  },
  {
   "cell_type": "code",
   "execution_count": null,
   "metadata": {
    "collapsed": true
   },
   "outputs": [],
   "source": []
  },
  {
   "cell_type": "code",
   "execution_count": null,
   "metadata": {
    "collapsed": true
   },
   "outputs": [],
   "source": [
    "# 入力内容を保持\n",
    "t = input()\n",
    "\n",
    "def Correction_time(t):\n",
    "    \"\"\"時間を修正する関数\"\"\"\n",
    "    \n",
    "    # 標準入力から時刻を細分化\n",
    "    month = t.split(\" \")[0].split(\"/\")[0]\n",
    "    day = int(t.split(\" \")[0].split(\"/\")[1])\n",
    "    hour = int(t.split(\" \")[1].split(\":\")[0])\n",
    "    time = t.split(\" \")[1].split(\":\")[1]\n",
    "    \n",
    "    if 0<= hour <= 23: # 時間の値が標準の時刻内の場合\n",
    "        pass\n",
    "    else: # 標準の時刻を外れていた場合\n",
    "        day = str(day + (int(hour/24)))\n",
    "        hour = hour % 24\n",
    "        if hour/10 <= 1:\n",
    "            hour = \"0\" + str(hour)\n",
    "        else:\n",
    "            hour = str(hour)    \n",
    "        t = month + \"/\" + day + \" \" + hour + \":\" + time\n",
    "    return t"
   ]
  },
  {
   "cell_type": "code",
   "execution_count": null,
   "metadata": {},
   "outputs": [],
   "source": [
    "print(Correction_time(t))"
   ]
  },
  {
   "cell_type": "code",
   "execution_count": null,
   "metadata": {
    "collapsed": true
   },
   "outputs": [],
   "source": []
  },
  {
   "cell_type": "code",
   "execution_count": null,
   "metadata": {},
   "outputs": [],
   "source": [
    "N = 3\n",
    "hands_list = [\"paper\",\"paper\",\"rock\"]\n",
    "hands = [i for i in set(hands_list)]\n",
    "\n",
    "hands_dict = {\n",
    "    \"scissorspaper\":\"scissors\",\n",
    "    \"paperscissors\":\"scissors\",\n",
    "    \"rockscissors\":\"rock\",\n",
    "    \"scissorsrock\":\"rock\",\n",
    "    \"paperrock\":\"paper\",\n",
    "    \"rockpaper\":\"paper\",\n",
    "}\n",
    "\n",
    "if len(hands) == 3:\n",
    "    print(\"draw\")\n",
    "elif len(hands) == 1:\n",
    "    print(\"draw\")\n",
    "else:\n",
    "    print(hands_dict[str(hands[0]) + str(hands[1])])"
   ]
  },
  {
   "cell_type": "code",
   "execution_count": null,
   "metadata": {
    "collapsed": true
   },
   "outputs": [],
   "source": []
  }
 ],
 "metadata": {
  "kernelspec": {
   "display_name": "Python 3",
   "language": "python",
   "name": "python3"
  },
  "language_info": {
   "codemirror_mode": {
    "name": "ipython",
    "version": 3
   },
   "file_extension": ".py",
   "mimetype": "text/x-python",
   "name": "python",
   "nbconvert_exporter": "python",
   "pygments_lexer": "ipython3",
   "version": "3.6.1"
  }
 },
 "nbformat": 4,
 "nbformat_minor": 2
}
